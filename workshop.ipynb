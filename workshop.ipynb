{
 "cells": [
  {
   "cell_type": "markdown",
   "source": [
    "# Pytorch\n",
    "\n",
    "In a previous workshop, you learned how to use Numpy to simply manage matrices in Python.\n",
    "In order to make the creation of neural networks easier and faster, we will learn to use Pytorch, a library created by Meta AI."
   ],
   "metadata": {
    "collapsed": false,
    "pycharm": {
     "name": "#%% md\n"
    }
   }
  },
  {
   "cell_type": "markdown",
   "source": [
    "## 1. Tensors\n",
    "\n",
    "Pytorch makes it very easy to use the GPU to perform matrix calculations more quickly without having to write additional code.\n",
    "Pytorch proposes an overlay to the Numpy arrays called Tensor. More simply, a Pytorch tensor is a Numpy matrix whose operations can be calculated on the GPU.\n",
    "\n",
    "Let's create our first tensor !"
   ],
   "metadata": {
    "collapsed": false,
    "pycharm": {
     "name": "#%% md\n"
    }
   }
  },
  {
   "cell_type": "code",
   "execution_count": null,
   "outputs": [],
   "source": [
    "# Import PyTorch\n",
    "import torch\n",
    "\n",
    "# Create a Tensor filled with 0 (we can also create a tensor filled with 1 using torch.ones())\n",
    "x = torch.zeros(3, 4)\n",
    "\n",
    "print(x)\n",
    "print(x.shape)"
   ],
   "metadata": {
    "collapsed": false,
    "pycharm": {
     "name": "#%%\n"
    }
   }
  },
  {
   "cell_type": "code",
   "execution_count": null,
   "outputs": [],
   "source": [
    "# Create a Tensor filled with random values (between 0 and 1)\n",
    "y = torch.rand(3, 4)\n",
    "\n",
    "print(y)\n",
    "print(y.shape)"
   ],
   "metadata": {
    "collapsed": false,
    "pycharm": {
     "name": "#%%\n"
    }
   }
  },
  {
   "cell_type": "code",
   "execution_count": null,
   "outputs": [],
   "source": [
    "# We can apply arithmetics operations on tensors\n",
    "\n",
    "print(y)\n",
    "print(y + 1)\n",
    "print(y * 3)"
   ],
   "metadata": {
    "collapsed": false,
    "pycharm": {
     "name": "#%%\n"
    }
   }
  },
  {
   "cell_type": "markdown",
   "source": [
    "There are many other operations that can be applied to tensors but we won't need them here. You can find out more about tensors by following this link: [Pytorch Tensors](https://pytorch.org/tutorials/beginner/introyt/tensors_deeper_tutorial.html)"
   ],
   "metadata": {
    "collapsed": false,
    "pycharm": {
     "name": "#%% md\n"
    }
   }
  }
 ],
 "metadata": {
  "kernelspec": {
   "display_name": "Python 3",
   "language": "python",
   "name": "python3"
  },
  "language_info": {
   "codemirror_mode": {
    "name": "ipython",
    "version": 2
   },
   "file_extension": ".py",
   "mimetype": "text/x-python",
   "name": "python",
   "nbconvert_exporter": "python",
   "pygments_lexer": "ipython2",
   "version": "2.7.6"
  }
 },
 "nbformat": 4,
 "nbformat_minor": 0
}