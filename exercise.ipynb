{
 "cells": [
  {
   "cell_type": "markdown",
   "id": "55ca99a8",
   "metadata": {
    "pycharm": {
     "name": "#%% md\n"
    }
   },
   "source": [
    "> This Jupyter Notebook contains the second part of the workshop, if you have not done the first one I invite you to do it before starting this one!"
   ]
  },
  {
   "cell_type": "markdown",
   "id": "80d3f1fe",
   "metadata": {
    "pycharm": {
     "name": "#%% md\n"
    }
   },
   "source": [
    "First of all, I hope you have understood the theoretical part of this workshop. Indeed, the latter will be very useful for this part! If you have any questions about the first part, this is the time to ask the supervisors.\n",
    "\n",
    "You will need to create a modell predicting the garment on a 28 x 28 pixel image. You are free to create the model you want, I advise you to start with the simplest and improve it as you go along.\n",
    "\n",
    "Obviously, I'm not going to let you start without a little help. Below you will find an incomplete code that will allow you to do this workshop. All you have to do is fill in the missing parts marked with comments starting with ###. You will also have to modify the hyper parameters (EPOCH, BATCH_SIZE, LR).\n",
    "\n",
    "We will use the [Fashion-MNIST dataset](https://github.com/zalandoresearch/fashion-mnist), which contains standardised clothing images.\n",
    "\n",
    "### It's up to you!"
   ]
  },
  {
   "cell_type": "code",
   "execution_count": null,
   "id": "10dda7a1",
   "metadata": {
    "pycharm": {
     "name": "#%%\n"
    }
   },
   "outputs": [],
   "source": [
    "import time\n",
    "import numpy as np\n",
    "import torch\n",
    "import torch.nn as nn\n",
    "import torch.nn.functional as F\n",
    "import torch.optim as optim\n",
    "import torchvision\n",
    "import torchvision.transforms as transforms\n",
    "import matplotlib.pyplot as plt\n",
    "from tqdm import tqdm"
   ]
  },
  {
   "cell_type": "code",
   "execution_count": null,
   "id": "828b7b20",
   "metadata": {
    "pycharm": {
     "name": "#%%\n"
    }
   },
   "outputs": [],
   "source": [
    "class NeuralNetwork(nn.Module):\n",
    "    def __init__(self):\n",
    "        super(NeuralNetwork, self).__init__()\n",
    "        ### Define all functions you will use\n",
    "\n",
    "    def forward(self, x):\n",
    "        ### Apply model forward\n",
    "        return x"
   ]
  },
  {
   "cell_type": "code",
   "execution_count": null,
   "id": "209cf05d",
   "metadata": {
    "pycharm": {
     "name": "#%%\n"
    }
   },
   "outputs": [],
   "source": [
    "network = NeuralNetwork()"
   ]
  },
  {
   "cell_type": "code",
   "execution_count": null,
   "id": "dbd9541a",
   "metadata": {
    "pycharm": {
     "name": "#%%\n"
    }
   },
   "outputs": [],
   "source": [
    "# Hyper parameters\n",
    "EPOCH = 1\n",
    "BATCH_SIZE = 1\n",
    "LEARNING_RATE = 1\n",
    "\n",
    "# Convert and normalize input images\n",
    "transform = transforms.Compose([\n",
    "    transforms.ToTensor(),\n",
    "    transforms.Normalize((0.1307,), (0.3081,))\n",
    "])\n",
    "\n",
    "# Load data\n",
    "train_set = torchvision.datasets.FashionMNIST(root='data', train=True, download=True, transform=transform)\n",
    "test_set = torchvision.datasets.FashionMNIST(root='data', train=False, download=True, transform=transform)\n",
    "\n",
    "# Select a batch of data\n",
    "train_loader = torch.utils.data.DataLoader(train_set, batch_size=BATCH_SIZE, shuffle=True)\n",
    "test_loader = torch.utils.data.DataLoader(test_set, batch_size=BATCH_SIZE, shuffle=True)\n",
    "\n",
    "# Define label names\n",
    "classes = ('T-shirt/top', 'Trouser', 'Pullover', 'Dress', 'Coat', 'Sandal', 'Shirt', 'Sneaker', 'Bag', 'Ankle boot')"
   ]
  },
  {
   "cell_type": "code",
   "execution_count": null,
   "id": "6d3dbe41",
   "metadata": {
    "pycharm": {
     "name": "#%%\n"
    }
   },
   "outputs": [],
   "source": [
    "# Display the image passed as input to the model\n",
    "def img_show(img):\n",
    "    np_img = img.numpy()\n",
    "    plt.imshow(np.transpose(np_img, (1, 2, 0)))\n",
    "    plt.show()\n",
    "\n",
    "\n",
    "img_show(next(iter(train_loader))[0][0])"
   ]
  },
  {
   "cell_type": "code",
   "execution_count": null,
   "id": "8f18b20f",
   "metadata": {
    "pycharm": {
     "name": "#%%\n"
    }
   },
   "outputs": [],
   "source": [
    "# Load a loss calculator and optimizer\n",
    "### Define criterion and optimizer\n",
    "criterion = None\n",
    "optimizer = None"
   ]
  },
  {
   "cell_type": "code",
   "execution_count": null,
   "id": "e205bd05",
   "metadata": {
    "pycharm": {
     "name": "#%%\n"
    }
   },
   "outputs": [],
   "source": [
    "iteration = 0\n",
    "start_time = time.time()\n",
    "\n",
    "train_accuracies = np.zeros(EPOCH)\n",
    "test_accuracies = np.zeros(EPOCH)\n",
    "\n",
    "for iteration in range(EPOCH):\n",
    "    average_loss = 0.0\n",
    "\n",
    "    print(\"――――――――――――――――――――――――――――――――――――――――――――――――――\")\n",
    "\n",
    "    # Training\n",
    "    total = 0\n",
    "    success = 0\n",
    "    for inputs, labels in tqdm(train_loader):\n",
    "        ### Train your model\n",
    "\n",
    "        total += ?\n",
    "        success += ?\n",
    "    train_accuracies[iteration] = 100.0 * success / total\n",
    "    # -------------------------------------------------------------------\n",
    "\n",
    "    # Testing\n",
    "    total = 0\n",
    "    success = 0\n",
    "    for inputs, labels in tqdm(test_loader):\n",
    "        ### Test your model\n",
    "\n",
    "        total += ?\n",
    "        success += ?\n",
    "    test_accuracies[iteration] = 100.0 * success / total\n",
    "    # -------------------------------------------------------------------\n",
    "\n",
    "    print(\"Epoch %d, train accuracy %d, test accuracy %d\" % (\n",
    "        iteration,\n",
    "        train_accuracies[iteration],\n",
    "        test_accuracies[iteration]\n",
    "    ))\n",
    "\n",
    "seconds = time.time() - start_time\n",
    "duration = datetime.time(second=seconds)\n",
    "display = duration.strftime(\"%Mm %Ss\")\n",
    "\n",
    "print(\"――――――――――――――――――――――――――――――――――――――――――――――――――\")\n",
    "print(\"Training time in seconds: %s\" % display)"
   ]
  },
  {
   "cell_type": "markdown",
   "id": "55e71084",
   "metadata": {
    "pycharm": {
     "name": "#%% md\n"
    }
   },
   "source": [
    "### Improvements\n",
    "\n",
    "Can you make the model work? Have you managed to create a basic model but don't know how to improve it? This part is for you!"
   ]
  },
  {
   "cell_type": "markdown",
   "id": "4d62c258",
   "metadata": {
    "pycharm": {
     "name": "#%% md\n"
    }
   },
   "source": [
    "1. You process images, have you used convolutions? [Conv2d](https://pytorch.org/docs/stable/generated/torch.nn.Conv2d.html#torch.nn.Conv2d)\n",
    "2. Did you use the pooling operation after your convolution? [MaxPool2d](https://pytorch.org/docs/stable/generated/torch.nn.MaxPool2d.html#torch.nn.MaxPool2d)\n",
    "3. Have you used the dropout to avoid overfitting? [Dropout](https://pytorch.org/docs/stable/generated/torch.nn.Dropout.html#torch.nn.Dropout)\n",
    "4. Have you tested other activation functions?"
   ]
  },
  {
   "cell_type": "markdown",
   "id": "c4a5d2a5",
   "metadata": {
    "pycharm": {
     "name": "#%% md\n"
    }
   },
   "source": [
    "Now that you're proud of your model, don't hesitate to share it with others! Also, feel free to compare your models to see what works well!"
   ]
  }
 ],
 "metadata": {
  "kernelspec": {
   "display_name": "Python 3 (ipykernel)",
   "language": "python",
   "name": "python3"
  },
  "language_info": {
   "codemirror_mode": {
    "name": "ipython",
    "version": 3
   },
   "file_extension": ".py",
   "mimetype": "text/x-python",
   "name": "python",
   "nbconvert_exporter": "python",
   "pygments_lexer": "ipython3",
   "version": "3.8.13"
  }
 },
 "nbformat": 4,
 "nbformat_minor": 5
}
